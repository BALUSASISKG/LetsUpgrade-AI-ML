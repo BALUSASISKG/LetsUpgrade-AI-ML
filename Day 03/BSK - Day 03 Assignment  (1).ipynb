{
 "cells": [
  {
   "cell_type": "markdown",
   "metadata": {},
   "source": [
    "# Subtraction of two complex numbers"
   ]
  },
  {
   "cell_type": "code",
   "execution_count": 5,
   "metadata": {},
   "outputs": [
    {
     "name": "stdout",
     "output_type": "stream",
     "text": [
      "Subtraction of two complex numbers is (-3-3j)\n"
     ]
    }
   ],
   "source": [
    "x = 2+3j\n",
    "y = 5+6j\n",
    "print(\"Subtraction of two complex numbers is\", x-y)"
   ]
  },
  {
   "cell_type": "markdown",
   "metadata": {},
   "source": [
    "# Fourth root "
   ]
  },
  {
   "cell_type": "code",
   "execution_count": 8,
   "metadata": {},
   "outputs": [
    {
     "name": "stdout",
     "output_type": "stream",
     "text": [
      "Fourth root of 256 is : 4.0\n"
     ]
    }
   ],
   "source": [
    "x = 256\n",
    "y = x**(1/4)\n",
    "print(\"Fourth root of\", x, \"is :\", y )"
   ]
  },
  {
   "cell_type": "markdown",
   "metadata": {},
   "source": [
    "# Swaping of  two numbers in Python with the help of a temporary variable"
   ]
  },
  {
   "cell_type": "code",
   "execution_count": 9,
   "metadata": {},
   "outputs": [
    {
     "name": "stdout",
     "output_type": "stream",
     "text": [
      "x =  20\n",
      "y =  15\n"
     ]
    }
   ],
   "source": [
    "x = 15\n",
    "y = 20\n",
    "temp = x\n",
    "x = y\n",
    "y = temp\n",
    "print(\"x = \", x)\n",
    "print(\"y = \", y)"
   ]
  },
  {
   "cell_type": "markdown",
   "metadata": {},
   "source": [
    "# Swaping of two numbers in Python without using a temporary variable"
   ]
  },
  {
   "cell_type": "code",
   "execution_count": 11,
   "metadata": {},
   "outputs": [
    {
     "name": "stdout",
     "output_type": "stream",
     "text": [
      "x =  20\n",
      "y =  15\n"
     ]
    }
   ],
   "source": [
    "x = 15\n",
    "y = 20\n",
    "x = x + y\n",
    "y = x - y\n",
    "x = x - y\n",
    "print(\"x = \", x)\n",
    "print(\"y = \", y)"
   ]
  },
  {
   "cell_type": "markdown",
   "metadata": {},
   "source": [
    "# Convertion of fahrenheit to kelvin and celsius"
   ]
  },
  {
   "cell_type": "code",
   "execution_count": 15,
   "metadata": {},
   "outputs": [
    {
     "name": "stdout",
     "output_type": "stream",
     "text": [
      "50 Degree Fahrenheit is Equal to 10.0 Degree Celcius\n",
      "50 Degree Fahrenheit is Equal to 283.15 Kelvin\n"
     ]
    }
   ],
   "source": [
    "F = 50\n",
    "C = (F - 32) * 5/9\n",
    "K = (F - 32) * 5/9 + 273.15\n",
    "print(F,\"Degree Fahrenheit is Equal to\", C, \"Degree Celcius\")\n",
    "print(F,\"Degree Fahrenheit is Equal to\", K, \"Kelvin\")"
   ]
  },
  {
   "cell_type": "markdown",
   "metadata": {},
   "source": [
    "# Demonstratation of all the available data types in Python"
   ]
  },
  {
   "cell_type": "code",
   "execution_count": 19,
   "metadata": {},
   "outputs": [
    {
     "name": "stdout",
     "output_type": "stream",
     "text": [
      "a <class 'int'>\n",
      "b <class 'float'>\n",
      "c <class 'complex'>\n",
      "d <class 'str'>\n",
      "e <class 'bool'>\n",
      "f <class 'tuple'>\n",
      "g <class 'list'>\n"
     ]
    }
   ],
   "source": [
    "a = 50\n",
    "b = 10.55\n",
    "c = 2 + 3j\n",
    "d = \"Sasikumar\"\n",
    "e = a < b\n",
    "f = (10, 15.55, 6 + 7j, \"Sasi\", 'Kumar')\n",
    "g = [10, 15.55, 6 + 7j, \"Sasi\", 'Kumar']\n",
    "print (\"a\", type(a))\n",
    "print (\"b\", type(b))\n",
    "print (\"c\",type(c))\n",
    "print (\"d\",type(d))\n",
    "print (\"e\",type(e))\n",
    "print (\"f\",type(f))\n",
    "print (\"g\",type(g))"
   ]
  },
  {
   "cell_type": "markdown",
   "metadata": {},
   "source": [
    "# Markdown cell in jupyter"
   ]
  },
  {
   "cell_type": "markdown",
   "metadata": {},
   "source": [
    "# Hai\n",
    "## I am Fine\n",
    "#### I am Fine \n",
    "I am doing good\n",
    "__I am doing good__\n",
    "___I am doing good___\n",
    "\n"
   ]
  }
 ],
 "metadata": {
  "kernelspec": {
   "display_name": "Python 3",
   "language": "python",
   "name": "python3"
  },
  "language_info": {
   "codemirror_mode": {
    "name": "ipython",
    "version": 3
   },
   "file_extension": ".py",
   "mimetype": "text/x-python",
   "name": "python",
   "nbconvert_exporter": "python",
   "pygments_lexer": "ipython3",
   "version": "3.7.6"
  }
 },
 "nbformat": 4,
 "nbformat_minor": 4
}
