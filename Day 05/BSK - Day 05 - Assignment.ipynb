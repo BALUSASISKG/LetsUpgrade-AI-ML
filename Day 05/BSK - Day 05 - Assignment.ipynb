{
 "cells": [
  {
   "cell_type": "markdown",
   "metadata": {},
   "source": [
    "# 1. Python program to find the first 20 non-even prime natural numbers"
   ]
  },
  {
   "cell_type": "code",
   "execution_count": 5,
   "metadata": {},
   "outputs": [
    {
     "name": "stdout",
     "output_type": "stream",
     "text": [
      "Prime numbers between 5 and 100 are:\n",
      "5\n",
      "7\n",
      "11\n",
      "13\n",
      "17\n",
      "19\n",
      "23\n",
      "29\n",
      "31\n",
      "37\n",
      "41\n",
      "43\n",
      "47\n",
      "53\n",
      "59\n",
      "61\n",
      "67\n",
      "71\n",
      "73\n",
      "79\n",
      "83\n",
      "89\n",
      "97\n"
     ]
    }
   ],
   "source": [
    "x = 5\n",
    "y = 100\n",
    "\n",
    "print(\"Prime numbers between\", x, \"and\", y, \"are:\")\n",
    "\n",
    "for num in range(x, y + 1):\n",
    "     if num > 1:\n",
    "        for n in range(2, num):\n",
    "            if (num % n) == 0:\n",
    "                break\n",
    "        else:\n",
    "            print(num)"
   ]
  },
  {
   "cell_type": "markdown",
   "metadata": {},
   "source": [
    "# 2. String Functions"
   ]
  },
  {
   "cell_type": "code",
   "execution_count": 1,
   "metadata": {},
   "outputs": [
    {
     "name": "stdout",
     "output_type": "stream",
     "text": [
      "Accessing Values in String \n",
      "\n",
      "s1[0] H\n",
      "s2[1:5] rtif\n",
      "\n",
      "Updating Strings\n",
      "Updated String: Human Intelligence\n",
      "\n",
      " Hello WorldArtificial Intelligence\n",
      "\n",
      " aRTIFICIAL iNTELLIGENCE\n",
      "\n",
      " hello world\n",
      "\n",
      " ARTIFICIAL INTELLIGENCE\n",
      "\n",
      " True\n",
      "\n",
      " SAsikumAr\n",
      "\n",
      " 23\n",
      "\n",
      " 1\n"
     ]
    }
   ],
   "source": [
    "s1 = \"Hello World\"\n",
    "s2 = \"Artificial Intelligence\"\n",
    "s3 = \"Sasikumar\"\n",
    "\n",
    "# Accessing Values in String\n",
    "\n",
    "print (\"Accessing Values in String \\n\")\n",
    "print (\"s1[0]\", s1[0])\n",
    "print (\"s2[1:5]\", s2[1:5], end = \"\\n\")\n",
    "\n",
    "# Updating Strings\n",
    "\n",
    "print (\"\\nUpdating Strings\")\n",
    "print (\"Updated String:\", 'Human' + s2[10:23])\n",
    "\n",
    "# String Concatination \n",
    "\n",
    "print (\"\\n\",s1 + s2)\n",
    "\n",
    "# String Swap\n",
    "\n",
    "print (\"\\n\", s2.swapcase())\n",
    "\n",
    "# Changing all case of string to lower case\n",
    "\n",
    "print(\"\\n\", s1.lower())\n",
    "\n",
    "# Changing all case of string to lower case\n",
    "\n",
    "print (\"\\n\", s2.upper())\n",
    "\n",
    "# Checking the string is alpha\n",
    "\n",
    "print (\"\\n\", s3.isalpha())\n",
    "\n",
    "# Rplacing letters in a String \n",
    "\n",
    "print (\"\\n\", s3.replace('a', 'A'))\n",
    "\n",
    "# Checking the length of the string\n",
    "\n",
    "print (\"\\n\", len(s2))\n",
    "\n",
    "# Getting the position of a letter in a string\n",
    "\n",
    "print (\"\\n\", s3.find('a'))\n"
   ]
  },
  {
   "cell_type": "markdown",
   "metadata": {},
   "source": [
    "# 3. Python program to check if the given string is a Palindrome or Anagram or None of them"
   ]
  },
  {
   "cell_type": "code",
   "execution_count": 4,
   "metadata": {},
   "outputs": [
    {
     "name": "stdout",
     "output_type": "stream",
     "text": [
      "Enter First String   fried\n",
      "Enter Second String   fired\n",
      "The strings are anagrams.\n"
     ]
    }
   ],
   "source": [
    "# Getting the Strings\n",
    "s1= input (\"Enter First String   \")\n",
    "s2 = input (\"Enter Second String   \")\n",
    "\n",
    "s3=s1[::-1] # Reversal of String\n",
    "# Palindrom Checking\n",
    "if s1==s3:\n",
    "    print(s1,\" is a palindrome\")\n",
    "elif(sorted(s1)==sorted(s2)):\n",
    "    print(\"The strings are anagrams.\")\n",
    "else:\n",
    "    print(\"None of them are Palindrom or Anagram\")"
   ]
  },
  {
   "cell_type": "markdown",
   "metadata": {},
   "source": [
    "# 4. User Defined Function to remove all the additional characters from the string and converts it finally to lower case"
   ]
  },
  {
   "cell_type": "code",
   "execution_count": null,
   "metadata": {},
   "outputs": [],
   "source": [
    "s1 = \"Sasikumar123\"\n",
    "print (s1)\n",
    "s2 = len(s1)\n",
    "i = 0\n",
    "while i<=s2:\n",
    "    for m in s1:\n",
    "        if m.isalpha() == True:\n",
    "    #if (s1[i].isaplpha() == True):\n",
    "            s1 = m.replace(m,'')\n",
    "    i = i+1\n",
    "print (s1)"
   ]
  }
 ],
 "metadata": {
  "kernelspec": {
   "display_name": "Python 3",
   "language": "python",
   "name": "python3"
  },
  "language_info": {
   "codemirror_mode": {
    "name": "ipython",
    "version": 3
   },
   "file_extension": ".py",
   "mimetype": "text/x-python",
   "name": "python",
   "nbconvert_exporter": "python",
   "pygments_lexer": "ipython3",
   "version": "3.7.6"
  }
 },
 "nbformat": 4,
 "nbformat_minor": 4
}
